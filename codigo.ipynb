{
  "cells": [
    {
      "cell_type": "code",
      "execution_count": null,
      "metadata": {
        "colab": {
          "base_uri": "https://localhost:8080/"
        },
        "id": "o7JknAWdM8_j",
        "outputId": "3edd663b-23fb-4819-8e8d-c8b8dc72514f"
      },
      "outputs": [
        {
          "name": "stdout",
          "output_type": "stream",
          "text": [
            "Writing holi.cpp\n"
          ]
        }
      ],
      "source": [
        "def divide_en_bins(secuencia, n):\n",
        "    bins = [secuencia[i:i + n] for i in range(0, len(secuencia), n)]\n",
        "    \n",
        "    return bins\n",
        "\n",
        "# Ejemplo de secuencia de ADN\n",
        "secuencia_adn = \"AACTCG\"\n",
        "\n",
        "# Tamaño de los bins\n",
        "tamanio_bin = 2\n",
        "\n",
        "# Dividir la secuencia en bins\n",
        "bins_adn = divide_en_bins(secuencia_adn, tamanio_bin)\n",
        "\n",
        "# Imprimir los bins resultantes\n",
        "print(bins_adn)\n",
        "\n",
        "\n",
        "\n",
        "\n",
        "\n",
        "\n",
        "\n",
        "\n",
        "\n",
        "\n",
        "\n",
        "\n",
        "\n"
      ]
    },
    {
      "cell_type": "code",
      "execution_count": null,
      "metadata": {
        "colab": {
          "base_uri": "https://localhost:8080/"
        },
        "id": "ohbUTqjVNIN2",
        "outputId": "8fc14f6e-f135-455c-953c-a410c90947bd"
      },
      "outputs": [
        {
          "name": "stdout",
          "output_type": "stream",
          "text": [
            "\u001b[01m\u001b[Kholi.cpp:\u001b[m\u001b[K In function ‘\u001b[01m\u001b[Kint main()\u001b[m\u001b[K’:\n",
            "\u001b[01m\u001b[Kholi.cpp:28:33:\u001b[m\u001b[K \u001b[01;31m\u001b[Kerror: \u001b[m\u001b[Kno matching function for call to ‘\u001b[01m\u001b[Kstoi(__gnu_cxx::__alloc_traits<std::allocator<char>, char>::value_type&)\u001b[m\u001b[K’\n",
            "   28 |         lista[i] = stoi(valor[i]\u001b[01;31m\u001b[K)\u001b[m\u001b[K;\n",
            "      |                                 \u001b[01;31m\u001b[K^\u001b[m\u001b[K\n",
            "In file included from \u001b[01m\u001b[K/usr/include/c++/9/string:55\u001b[m\u001b[K,\n",
            "                 from \u001b[01m\u001b[K/usr/include/c++/9/bits/locale_classes.h:40\u001b[m\u001b[K,\n",
            "                 from \u001b[01m\u001b[K/usr/include/c++/9/bits/ios_base.h:41\u001b[m\u001b[K,\n",
            "                 from \u001b[01m\u001b[K/usr/include/c++/9/ios:42\u001b[m\u001b[K,\n",
            "                 from \u001b[01m\u001b[K/usr/include/c++/9/ostream:38\u001b[m\u001b[K,\n",
            "                 from \u001b[01m\u001b[K/usr/include/c++/9/iostream:39\u001b[m\u001b[K,\n",
            "                 from \u001b[01m\u001b[Kholi.cpp:2\u001b[m\u001b[K:\n",
            "\u001b[01m\u001b[K/usr/include/c++/9/bits/basic_string.h:6506:3:\u001b[m\u001b[K \u001b[01;36m\u001b[Knote: \u001b[m\u001b[Kcandidate: ‘\u001b[01m\u001b[Kint std::__cxx11::stoi(const string&, std::size_t*, int)\u001b[m\u001b[K’\n",
            " 6506 |   \u001b[01;36m\u001b[Kstoi\u001b[m\u001b[K(const string& __str, size_t* __idx = 0, int __base = 10)\n",
            "      |   \u001b[01;36m\u001b[K^~~~\u001b[m\u001b[K\n",
            "\u001b[01m\u001b[K/usr/include/c++/9/bits/basic_string.h:6506:22:\u001b[m\u001b[K \u001b[01;36m\u001b[Knote: \u001b[m\u001b[K  no known conversion for argument 1 from ‘\u001b[01m\u001b[K__gnu_cxx::__alloc_traits<std::allocator<char>, char>::value_type\u001b[m\u001b[K’ {aka ‘\u001b[01m\u001b[Kchar\u001b[m\u001b[K’} to ‘\u001b[01m\u001b[Kconst string&\u001b[m\u001b[K’ {aka ‘\u001b[01m\u001b[Kconst std::__cxx11::basic_string<char>&\u001b[m\u001b[K’}\n",
            " 6506 |   stoi(\u001b[01;36m\u001b[Kconst string& __str\u001b[m\u001b[K, size_t* __idx = 0, int __base = 10)\n",
            "      |        \u001b[01;36m\u001b[K~~~~~~~~~~~~~~^~~~~\u001b[m\u001b[K\n",
            "\u001b[01m\u001b[K/usr/include/c++/9/bits/basic_string.h:6612:3:\u001b[m\u001b[K \u001b[01;36m\u001b[Knote: \u001b[m\u001b[Kcandidate: ‘\u001b[01m\u001b[Kint std::__cxx11::stoi(const wstring&, std::size_t*, int)\u001b[m\u001b[K’\n",
            " 6612 |   \u001b[01;36m\u001b[Kstoi\u001b[m\u001b[K(const wstring& __str, size_t* __idx = 0, int __base = 10)\n",
            "      |   \u001b[01;36m\u001b[K^~~~\u001b[m\u001b[K\n",
            "\u001b[01m\u001b[K/usr/include/c++/9/bits/basic_string.h:6612:23:\u001b[m\u001b[K \u001b[01;36m\u001b[Knote: \u001b[m\u001b[K  no known conversion for argument 1 from ‘\u001b[01m\u001b[K__gnu_cxx::__alloc_traits<std::allocator<char>, char>::value_type\u001b[m\u001b[K’ {aka ‘\u001b[01m\u001b[Kchar\u001b[m\u001b[K’} to ‘\u001b[01m\u001b[Kconst wstring&\u001b[m\u001b[K’ {aka ‘\u001b[01m\u001b[Kconst std::__cxx11::basic_string<wchar_t>&\u001b[m\u001b[K’}\n",
            " 6612 |   stoi(\u001b[01;36m\u001b[Kconst wstring& __str\u001b[m\u001b[K, size_t* __idx = 0, int __base = 10)\n",
            "      |        \u001b[01;36m\u001b[K~~~~~~~~~~~~~~~^~~~~\u001b[m\u001b[K\n",
            "\u001b[01m\u001b[Kholi.cpp:36:14:\u001b[m\u001b[K \u001b[01;31m\u001b[Kerror: \u001b[m\u001b[Kexpected ‘\u001b[01m\u001b[K}\u001b[m\u001b[K’ at end of input\n",
            "   36 |     cout<<sum\u001b[01;31m\u001b[K;\u001b[m\u001b[K\n",
            "      |              \u001b[01;31m\u001b[K^\u001b[m\u001b[K\n",
            "\u001b[01m\u001b[Kholi.cpp:13:1:\u001b[m\u001b[K \u001b[01;36m\u001b[Knote: \u001b[m\u001b[Kto match this ‘\u001b[01m\u001b[K{\u001b[m\u001b[K’\n",
            "   13 | \u001b[01;36m\u001b[K{\u001b[m\u001b[K\n",
            "      | \u001b[01;36m\u001b[K^\u001b[m\u001b[K\n"
          ]
        }
      ],
      "source": [
        "def generate_n_grams(sequence, n):\n",
        "    n_grams = [sequence[i:i+n] for i in range(len(sequence) - n + 1)]\n",
        "    return n_grams\n",
        "\n",
        "# Secuencia de ADN de ejemplo (reemplazar con tu secuencia real)\n",
        "dna_sequence = \"AACTCG\"\n",
        "\n",
        "# Valor de n para los n-gramas\n",
        "n_value = 2\n",
        "\n",
        "# Generar bins de n-gramas\n",
        "n_grams_bins = generate_n_grams(dna_sequence, n_value)\n",
        "\n",
        "# Imprimir los bins de n-gramas generados\n",
        "print(f\"Bins de {n_value}-gramas:\")\n",
        "for bin in n_grams_bins:\n",
        "    print(bin)\n",
        "\n"
      ]
    },
    {
      "cell_type": "code",
      "execution_count": null,
      "metadata": {
        "id": "5pkbLOhRp6hd"
      },
      "outputs": [],
      "source": [
        "def generate_ngrams(sequence, n):\n",
        "    ngrams = set()\n",
        "    for i in range(len(sequence) - n + 1):\n",
        "        ngram = sequence[i:i+n]\n",
        "        ngrams.add(ngram)\n",
        "    return ngrams\n",
        "\n",
        "# Secuencia de ADN de ejemplo\n",
        "dna_sequence = \"AACTCG\"\n",
        "\n",
        "# Valor de n para los n-gramas (n-grama de 2 en este caso)\n",
        "n_value = 2\n",
        "\n",
        "# Generar los n-gramas y almacenarlos en una variable\n",
        "ngrams_set = generate_ngrams(dna_sequence, n_value)\n",
        "\n",
        "# Contar el número de n-gramas únicos para obtener el número de bins\n",
        "num_bins = len(ngrams_set)\n",
        "\n",
        "# Imprimir los resultados\n",
        "print(\"La secuencia de ADN es:\", dna_sequence)\n",
        "print(f\"Los bins de {n_value}-grama son {ngrams_set}, lo que significa que hay {num_bins} bins.\")\n"
      ]
    },
    {
      "cell_type": "code",
      "execution_count": null,
      "metadata": {
        "id": "9f9YMrcsp-6I"
      },
      "outputs": [],
      "source": [
        "import itertools\n",
        "\n",
        "def generate_n_grams(sequence, n):\n",
        "    n_grams = [sequence[i:i+n] for i in range(len(sequence) - n + 1)]\n",
        "    return n_grams\n",
        "\n",
        "def generate_combinations(n):\n",
        "    nucleotides = ['A', 'C', 'G', 'T']\n",
        "    return [''.join(gram) for gram in itertools.product(nucleotides, repeat=n)]\n",
        "\n",
        "# Secuencia de ADN de ejemplo\n",
        "dna_sequence = \"ATCGAGCTA\"\n",
        "\n",
        "# Tamaño de n-grama\n",
        "n_gram_size = 2\n",
        "\n",
        "# Generar los bins de n-grama\n",
        "bins = generate_n_grams(dna_sequence, n_gram_size)\n",
        "\n",
        "# Generar las posibles combinaciones\n",
        "combinations = generate_combinations(n_gram_size)\n",
        "\n",
        "print(f\"La secuencia de ADN es: {dna_sequence}\")\n",
        "print(f\"Los bins de {n_gram_size}-grama son: {bins}\")"
      ]
    },
    {
      "cell_type": "code",
      "execution_count": null,
      "metadata": {
        "id": "5m0Htj-AqDXO"
      },
      "outputs": [],
      "source": [
        "import itertools\n",
        "\n",
        "def generate_combinations(n, q):\n",
        "    nucleotides = ['A','A', 'C', 'T', 'C','G']\n",
        "    return [''.join(gram) for gram in itertools.product(nucleotides, repeat=n)]\n",
        "\n",
        "# Tamaño de los q-gramas\n",
        "n_gram_size = 2\n",
        "\n",
        "# Tamaño de los q-gramas que se quieren generar\n",
        "q = 2\n",
        "\n",
        "# Generar todas las posibles combinaciones de q-gramas de tamaño n\n",
        "combinations = generate_combinations(n_gram_size, q)\n",
        "\n",
        "print(f\"Todas las posibles combinaciones de {q}-gramas de tamaño {n_gram_size} son:\")\n",
        "print(combinations)\n",
        "print(f\"Total de combinaciones: {len(combinations)}\")\n"
      ]
    }
  ],
  "metadata": {
    "colab": {
      "provenance": []
    },
    "kernelspec": {
      "display_name": "Python 3",
      "name": "python3"
    },
    "language_info": {
      "name": "python"
    }
  },
  "nbformat": 4,
  "nbformat_minor": 0
}
